{
 "cells": [
  {
   "cell_type": "markdown",
   "metadata": {},
   "source": [
    "# vector"
   ]
  },
  {
   "cell_type": "markdown",
   "metadata": {},
   "source": [
    "## interpretation\n",
    "\n",
    "### algebraic\n",
    "+ ordered list of numbers\n",
    "  + 2 dimentional array\n",
    "  + has 1 length dimention\n",
    "\n",
    "\n",
    "### geometric\n",
    "+ encoded arrow\n",
    "  + magnitude\n",
    "  + angle"
   ]
  },
  {
   "cell_type": "code",
   "execution_count": 2,
   "metadata": {},
   "outputs": [],
   "source": [
    "import numpy as np"
   ]
  },
  {
   "cell_type": "markdown",
   "metadata": {},
   "source": [
    "## orientation\n",
    "+ row direction - $(1, n)$\n",
    "+ column direction - $(n, 1)$"
   ]
  },
  {
   "cell_type": "code",
   "execution_count": 2,
   "metadata": {},
   "outputs": [
    {
     "data": {
      "text/plain": [
       "(array([1, 2, 3]),\n",
       " array([[1, 2, 3]]),\n",
       " array([[1],\n",
       "        [2],\n",
       "        [3]]))"
      ]
     },
     "execution_count": 2,
     "metadata": {},
     "output_type": "execute_result"
    }
   ],
   "source": [
    "a = [1, 2, 3]\n",
    "array_a = np.array(a)\n",
    "row_vec_a = np.array([a])\n",
    "col_vec_a = np.array([a]).T\n",
    "array_a, row_vec_a, col_vec_a"
   ]
  },
  {
   "cell_type": "code",
   "execution_count": 3,
   "metadata": {},
   "outputs": [
    {
     "name": "stdout",
     "output_type": "stream",
     "text": [
      "asList: (3,)\n",
      "asArray: (3,)\n",
      "rowVec: (1, 3)\n",
      "colVec: (3, 1)\n"
     ]
    }
   ],
   "source": [
    "print(f'asList: {np.shape(a)}')\n",
    "print(f'asArray: {array_a.shape}')\n",
    "print(f'rowVec: {row_vec_a.shape}')\n",
    "print(f'colVec: {col_vec_a.shape}')"
   ]
  },
  {
   "cell_type": "markdown",
   "metadata": {},
   "source": [
    "## simple operation"
   ]
  },
  {
   "cell_type": "markdown",
   "metadata": {},
   "source": [
    "### linear combination\n",
    "+ operate every elements for real number multiplication\n",
    "+ operate corresponding elements for sumation and subtraction\n",
    "  + for two same shape vectors"
   ]
  },
  {
   "cell_type": "code",
   "execution_count": 8,
   "metadata": {},
   "outputs": [
    {
     "data": {
      "text/plain": [
       "(array([[-4, -5, -6]]), array([[14, 25, 36]]), array([[ -6, -15, -24]]))"
      ]
     },
     "execution_count": 8,
     "metadata": {},
     "output_type": "execute_result"
    }
   ],
   "source": [
    "v = np.array([[4,5,6]])\n",
    "w = np.array([[10,20,30]])\n",
    "- 1 * v, v + w, v - w, "
   ]
  },
  {
   "cell_type": "markdown",
   "metadata": {},
   "source": [
    "### transpose\n",
    "+ change orientation"
   ]
  },
  {
   "cell_type": "code",
   "execution_count": 9,
   "metadata": {},
   "outputs": [
    {
     "data": {
      "text/plain": [
       "(array([[4],\n",
       "        [5],\n",
       "        [6]]),\n",
       " array([[4, 5, 6]]))"
      ]
     },
     "execution_count": 9,
     "metadata": {},
     "output_type": "execute_result"
    }
   ],
   "source": [
    "v.T, v.T.T"
   ]
  },
  {
   "cell_type": "markdown",
   "metadata": {},
   "source": [
    "### broadcasting\n",
    "+ repeating operation based on one vector"
   ]
  },
  {
   "cell_type": "code",
   "execution_count": 12,
   "metadata": {},
   "outputs": [
    {
     "data": {
      "text/plain": [
       "(array([[20, 30, 40]]),\n",
       " array([[14, 15, 16],\n",
       "        [24, 25, 26],\n",
       "        [34, 35, 36]]))"
      ]
     },
     "execution_count": 12,
     "metadata": {},
     "output_type": "execute_result"
    }
   ],
   "source": [
    "10 + w, v + w.T"
   ]
  },
  {
   "cell_type": "markdown",
   "metadata": {},
   "source": [
    "## norm\n",
    "+ magnitude of a vector\n",
    "$$\\lVert v \\rVert = \\sqrt{\\sum_{i=1}^{n}{v_i^2}}$$"
   ]
  },
  {
   "cell_type": "code",
   "execution_count": 14,
   "metadata": {},
   "outputs": [
    {
     "data": {
      "text/plain": [
       "(6, 14.422205101855956)"
      ]
     },
     "execution_count": 14,
     "metadata": {},
     "output_type": "execute_result"
    }
   ],
   "source": [
    "v = np.array([1,2,3,7,8,9])\n",
    "v_dim = len(v) # 수학의 차원\n",
    "v_mag = np.linalg.norm(v) # 수학적 크기, 길이, 또는 노름\n",
    "v_dim, v_mag"
   ]
  },
  {
   "cell_type": "code",
   "execution_count": 5,
   "metadata": {},
   "outputs": [
    {
     "data": {
      "text/plain": [
       "(14.422205101855956, 14.422205101855956)"
      ]
     },
     "execution_count": 5,
     "metadata": {},
     "output_type": "execute_result"
    }
   ],
   "source": [
    "v = np.array([1,2,3,7,8,9])\n",
    "np.sqrt(np.sum(v**2)), np.linalg.norm(v)"
   ]
  },
  {
   "cell_type": "markdown",
   "metadata": {},
   "source": [
    "## unit vector\n",
    "+ vector of magnitude 1\n",
    "$$\\hat{v} = \\frac{v}{\\lVert v \\rVert}$$"
   ]
  },
  {
   "cell_type": "code",
   "execution_count": 6,
   "metadata": {},
   "outputs": [
    {
     "data": {
      "text/plain": [
       "array([0.06933752, 0.13867505, 0.20801257, 0.48536267, 0.5547002 ,\n",
       "       0.62403772])"
      ]
     },
     "execution_count": 6,
     "metadata": {},
     "output_type": "execute_result"
    }
   ],
   "source": [
    "v = np.array([1,2,3,7,8,9])\n",
    "\n",
    "def unit_vector(vector):\n",
    "    norm = np.linalg.norm(v)\n",
    "    return v/norm\n",
    "\n",
    "unit_vector(v)"
   ]
  },
  {
   "cell_type": "markdown",
   "metadata": {},
   "source": [
    "## dot product\n",
    "+ simmilarity of two vectors\n",
    "$$\\delta = \\sum_{i=1}^{n}{a_ib_i} = v^Tw = \\lVert v \\rVert \\lVert w \\rVert cos(\\theta_{v, w})$$"
   ]
  },
  {
   "cell_type": "code",
   "execution_count": 15,
   "metadata": {},
   "outputs": [
    {
     "data": {
      "text/plain": [
       "70"
      ]
     },
     "execution_count": 15,
     "metadata": {},
     "output_type": "execute_result"
    }
   ],
   "source": [
    "v = np.array([1,2,3,4])\n",
    "w = np.array([5,6,7,8])\n",
    "np.dot(v,w)"
   ]
  },
  {
   "cell_type": "markdown",
   "metadata": {},
   "source": [
    "### distributive law\n",
    "$$a^T(b+c) = a^Tb+a^Tc$$"
   ]
  },
  {
   "cell_type": "code",
   "execution_count": 16,
   "metadata": {},
   "outputs": [
    {
     "data": {
      "text/plain": [
       "(110, 110)"
      ]
     },
     "execution_count": 16,
     "metadata": {},
     "output_type": "execute_result"
    }
   ],
   "source": [
    "a = np.array([ 0,1,2 ])\n",
    "b = np.array([ 3,5,8 ])\n",
    "c = np.array([ 13,21,34 ])\n",
    "# 내적 분배 법칙\n",
    "res1 = np.dot( a, b+c )\n",
    "res2 = np.dot( a,b ) + np.dot( a,c )\n",
    "res1, res2"
   ]
  },
  {
   "cell_type": "markdown",
   "metadata": {},
   "source": [
    "## Hardamard product\n",
    "+ multiply corresponding elements"
   ]
  },
  {
   "cell_type": "code",
   "execution_count": 18,
   "metadata": {},
   "outputs": [
    {
     "data": {
      "text/plain": [
       "array([ 5.,  0.,  4., -2.])"
      ]
     },
     "execution_count": 18,
     "metadata": {},
     "output_type": "execute_result"
    }
   ],
   "source": [
    "a = np.array([5,4,8,2])\n",
    "b = np.array([1,0,.5, -1])\n",
    "a * b"
   ]
  },
  {
   "cell_type": "markdown",
   "metadata": {},
   "source": [
    "## cross product\n",
    "+ row - row vector scalar multiplied by the corresponding column vector element\n",
    "+ column - column vector scalar multiplied by the corresponding row vector element\n",
    "$$v \\times w = vw^T$$"
   ]
  },
  {
   "cell_type": "code",
   "execution_count": 4,
   "metadata": {},
   "outputs": [
    {
     "data": {
      "text/plain": [
       "array([[ 5. ,  0. ,  2.5, -5. ],\n",
       "       [ 4. ,  0. ,  2. , -4. ],\n",
       "       [ 8. ,  0. ,  4. , -8. ],\n",
       "       [ 2. ,  0. ,  1. , -2. ]])"
      ]
     },
     "execution_count": 4,
     "metadata": {},
     "output_type": "execute_result"
    }
   ],
   "source": [
    "a = np.array([5,4,8,2])\n",
    "b = np.array([1,0,.5, -1])\n",
    "np.outer(a, b)"
   ]
  },
  {
   "cell_type": "markdown",
   "metadata": {},
   "source": [
    "## orthogonal projection\n",
    "+ find $\\beta$ to project vector **b** to vector **a**\n",
    "  + projetion vector : $\\beta \\bold{a}$\n",
    "  + perpendicular to vector **a** : $\\bold{b} - \\beta \\bold{a}$\n",
    "$$\n",
    "\\bold{a}^T(\\bold{b}-\\beta \\bold{a}) = 0\\\\\n",
    "\\bold{a}^T\\bold{b} - \\beta \\bold{a}^T \\bold{a} = 0\\\\\n",
    "\\beta = \\frac{\\bold{a}^T\\bold{b}}{\\bold{a}^T\\bold{a}}\n",
    "$$"
   ]
  },
  {
   "cell_type": "markdown",
   "metadata": {},
   "source": [
    "## orthogonal decomposition\n",
    "+ decompose vector **t** for basis vector **r** \n",
    "$$\n",
    "\\bold{t}_{\\parallel \\bold{r}} = \\bold{r}\\frac{\\bold{t}^T\\bold{r}}{\\bold{r}^T\\bold{r}}\\\\\n",
    "\\bold{t}_{\\perp \\bold{r}}= \\bold{t} - \\bold{t}_{\\parallel \\bold{r}} = \\bold{t} - \\bold{r}\\frac{\\bold{t}^T\\bold{r}}{\\bold{r}^T\\bold{r}}\n",
    "$$"
   ]
  },
  {
   "cell_type": "markdown",
   "metadata": {},
   "source": [
    "# exercise"
   ]
  },
  {
   "cell_type": "code",
   "execution_count": 4,
   "metadata": {},
   "outputs": [
    {
     "data": {
      "text/plain": [
       "array([[1.41421356, 1.41421356]])"
      ]
     },
     "execution_count": 4,
     "metadata": {},
     "output_type": "execute_result"
    }
   ],
   "source": [
    "# 1-4\n",
    "def mag_vector(lenghth, vector):\n",
    "    return lenghth / np.linalg.norm(vector) * vector\n",
    "\n",
    "mag_vector(2, np.array([[1, 1]]))"
   ]
  },
  {
   "cell_type": "code",
   "execution_count": 7,
   "metadata": {},
   "outputs": [
    {
     "data": {
      "text/plain": [
       "array([[1.],\n",
       "       [2.],\n",
       "       [3.]])"
      ]
     },
     "execution_count": 7,
     "metadata": {},
     "output_type": "execute_result"
    }
   ],
   "source": [
    "# 1-5\n",
    "def transpose(vector):\n",
    "    row, col = vector.shape\n",
    "    new_vec = np.zeros((col, row))\n",
    "    for i in range(row):\n",
    "        for j in range(col):\n",
    "            new_vec[j][i] = vector[i][j]\n",
    "    return new_vec\n",
    "            \n",
    "\n",
    "transpose(np.array([[1, 2, 3]]))"
   ]
  },
  {
   "cell_type": "code",
   "execution_count": 11,
   "metadata": {},
   "outputs": [
    {
     "data": {
      "text/plain": [
       "(14.0, array([[14]]))"
      ]
     },
     "execution_count": 11,
     "metadata": {},
     "output_type": "execute_result"
    }
   ],
   "source": [
    "# 1-6\n",
    "v = np.array([[1, 2, 3]])\n",
    "np.linalg.norm(v)**2, v @ v.T "
   ]
  },
  {
   "cell_type": "code",
   "execution_count": 19,
   "metadata": {},
   "outputs": [
    {
     "data": {
      "text/plain": [
       "(array([[32]]), array([[32]]))"
      ]
     },
     "execution_count": 19,
     "metadata": {},
     "output_type": "execute_result"
    }
   ],
   "source": [
    "# 1-7\n",
    "a = np.array([[1, 2, 3]])\n",
    "b = np.array([[4, 5, 6]])\n",
    "\n",
    "a @ b.T, b @ a.T"
   ]
  },
  {
   "cell_type": "code",
   "execution_count": 15,
   "metadata": {},
   "outputs": [
    {
     "data": {
      "text/plain": [
       "(array([[1., 2., 3.]]), array([[-6.66133815e-16]]))"
      ]
     },
     "execution_count": 15,
     "metadata": {},
     "output_type": "execute_result"
    }
   ],
   "source": [
    "# 1-9\n",
    "def orthogonal_decompose(vector, basis):\n",
    "    beta = (basis @ vector.T) / (basis @ basis.T)\n",
    "    perp = vector - beta * basis\n",
    "    para = beta * basis\n",
    "    return perp, para\n",
    "\n",
    "a, b = orthogonal_decompose(np.array([[1, 2, 3]]), np.array([[4, 5, 6]]))\n",
    "a+b, a @ b.T"
   ]
  },
  {
   "cell_type": "markdown",
   "metadata": {},
   "source": [
    "## linear weighted combination\n",
    "+ same demention for all $\\bold{v}_n$\n",
    "+ real number for all $\\lambda_n$\n",
    "$$\\bold{w} = \\lambda_1 \\bold{v}_1 + \\lambda_2 \\bold{v}_2 + \\dots + \\lambda_n \\bold{v}_n$$"
   ]
  },
  {
   "cell_type": "markdown",
   "metadata": {},
   "source": [
    "## linearly dependence\n",
    "+ for all vector in vector set\n",
    "+ real number for all $\\lambda_n$\n",
    "+ nontraival solution exisit for equation:\n",
    "$$\\bold{0} = \\lambda_1 \\bold{v}_1 + \\lambda_2 \\bold{v}_2 + \\dots + \\lambda_n \\bold{v}_n$$ "
   ]
  },
  {
   "cell_type": "markdown",
   "metadata": {},
   "source": [
    "## span\n",
    "+ for all vectors in vector set\n",
    "+ apply every possible linear weighted combination\n",
    "+ form subspace"
   ]
  },
  {
   "cell_type": "markdown",
   "metadata": {},
   "source": [
    "## basis\n",
    "+ for all vectors in vector set\n",
    "  + span subspace\n",
    "  + linearly independence"
   ]
  },
  {
   "cell_type": "markdown",
   "metadata": {},
   "source": []
  }
 ],
 "metadata": {
  "kernelspec": {
   "display_name": "ml",
   "language": "python",
   "name": "python3"
  },
  "language_info": {
   "codemirror_mode": {
    "name": "ipython",
    "version": 3
   },
   "file_extension": ".py",
   "mimetype": "text/x-python",
   "name": "python",
   "nbconvert_exporter": "python",
   "pygments_lexer": "ipython3",
   "version": "3.9.19"
  }
 },
 "nbformat": 4,
 "nbformat_minor": 2
}
